{
 "cells": [
  {
   "cell_type": "code",
   "execution_count": null,
   "metadata": {},
   "outputs": [],
   "source": [
    "!pip install python-dotenv \n",
    "!pip install gcsfs\n",
    "!pip install farm-haystack\n"
   ]
  },
  {
   "cell_type": "code",
   "execution_count": 2,
   "metadata": {},
   "outputs": [
    {
     "name": "stderr",
     "output_type": "stream",
     "text": [
      "/Users/vibha/miniconda3/envs/climate_qna/lib/python3.10/site-packages/tqdm/auto.py:21: TqdmWarning: IProgress not found. Please update jupyter and ipywidgets. See https://ipywidgets.readthedocs.io/en/stable/user_install.html\n",
      "  from .autonotebook import tqdm as notebook_tqdm\n"
     ]
    }
   ],
   "source": [
    "import json\n",
    "from haystack.document_stores.elasticsearch import ElasticsearchDocumentStore\n",
    "from haystack import Document\n",
    "from datetime import datetime\n",
    "import config\n",
    "from haystack.nodes import FARMReader, EmbeddingRetriever\n",
    "\n",
    "import os\n",
    "import time\n",
    "\n",
    "from dotenv import load_dotenv\n",
    "import gcsfs\n",
    "import certifi\n",
    "import uuid\n",
    "import logging\n",
    "\n",
    "\n",
    "load_dotenv()\n",
    "#LOADING ENVIRONMENT VARIABLES\n",
    "ELASTIC_HOST = os.getenv('ELASTIC_HOST')\n",
    "ELASTIC_HTTP_AUTH = os.getenv('ELASTIC_HTTP_AUTH')\n",
    "ELASTIC_PASSWORD = os.getenv('ELASTIC_PASSWORD')\n",
    "CLOUD_ID = os.getenv('CLOUD_ID')\n",
    "ELASTIC_PORT = os.getenv('ELASTIC_PORT')"
   ]
  },
  {
   "cell_type": "code",
   "execution_count": 9,
   "metadata": {},
   "outputs": [],
   "source": [
    "def get_text_documentai(doc_element: dict, document: dict):\n",
    "    \"\"\"\n",
    "    Document AI identifies form fields by their offsets\n",
    "    in document text. This function converts offsets\n",
    "    to text snippets.\n",
    "    \"\"\"\n",
    "    response = \"\"\n",
    "    # If a text segment spans several lines, it will\n",
    "    # be stored in different text segments.\n",
    "    for segment in doc_element['textAnchor']['textSegments']:\n",
    "        start_index = (\n",
    "            int(segment['startIndex'])\n",
    "            if 'startIndex' in segment\n",
    "            else 0\n",
    "        )\n",
    "        end_index = int(segment['endIndex'])\n",
    "        response += document['text'][start_index:end_index]\n",
    "    return response"
   ]
  },
  {
   "cell_type": "code",
   "execution_count": 10,
   "metadata": {},
   "outputs": [],
   "source": [
    "def parse_json(uri):\n",
    "    # fs = gcsfs.GCSFileSystem(project=config.PROJECT_ID)\n",
    "    with open(uri) as f:\n",
    "        result = json.load(f)\n",
    "    if 'pages' in result.keys():\n",
    "        document_pages = result['pages']\n",
    "        block_list = []\n",
    "        for page in document_pages:\n",
    "            try:\n",
    "                page_number = page['pageNumber']\n",
    "                blocks = page['blocks']\n",
    "                for block in blocks:\n",
    "                    block_text = get_text_documentai(block['layout'], result)\n",
    "                    block_list.append(Document.from_dict({'content': str(block_text),\n",
    "                                                          'meta': {'json_uri': uri}\n",
    "                                                          }))\n",
    "            except Exception as e:\n",
    "                logging.exception(e)\n",
    "                continue\n",
    "\n",
    "    return block_list"
   ]
  },
  {
   "cell_type": "code",
   "execution_count": 4,
   "metadata": {},
   "outputs": [],
   "source": [
    "certifi_location = certifi.where()"
   ]
  },
  {
   "cell_type": "code",
   "execution_count": 7,
   "metadata": {},
   "outputs": [],
   "source": [
    "uri_list = [\"data/sustainability_doc_part1.json\",\n",
    "\"data/sustainability_doc_part2.json\",\n",
    "\"data/sustainability_doc_part3.json\",\n",
    "\"data/sustainability_doc_part4.json\",\n",
    "\"data/sustainability_doc_part5.json\",\n",
    "\"data/sustainability_doc_part6.json\",\n",
    "\"data/sustainability_doc_part7.json\"]"
   ]
  },
  {
   "cell_type": "code",
   "execution_count": 5,
   "metadata": {},
   "outputs": [],
   "source": [
    "#Create a document store\n",
    "document_store = ElasticsearchDocumentStore(host=ELASTIC_HOST, port=ELASTIC_PORT,\n",
    "                                                ca_certs=certifi_location, scheme='https', username=\"elastic\", password=ELASTIC_PASSWORD, index=\"april15test2\")\n"
   ]
  },
  {
   "cell_type": "code",
   "execution_count": 11,
   "metadata": {},
   "outputs": [],
   "source": [
    "#Insert documents into document store\n",
    "result_list = []\n",
    "for uri in uri_list:\n",
    "    result_dict = parse_json(uri)\n",
    "    result_list.append(result_dict)\n",
    "    document_store.write_documents(result_dict)\n"
   ]
  },
  {
   "cell_type": "code",
   "execution_count": 12,
   "metadata": {},
   "outputs": [
    {
     "name": "stderr",
     "output_type": "stream",
     "text": [
      "/Users/vibha/miniconda3/envs/climate_qna/lib/python3.10/site-packages/torch/_utils.py:776: UserWarning: TypedStorage is deprecated. It will be removed in the future and UntypedStorage will be the only storage class. This should only matter to you if you are using storages directly.  To access UntypedStorage directly, use tensor.untyped_storage() instead of tensor.storage()\n",
      "  return self.fget.__get__(instance, owner)()\n"
     ]
    }
   ],
   "source": [
    "#Create retriever\n",
    "from haystack.document_stores import ElasticsearchDocumentStore\n",
    "from haystack.nodes import EmbeddingRetriever\n",
    "from haystack.pipelines import ExtractiveQAPipeline\n",
    "from haystack.pipelines import DocumentSearchPipeline\n",
    "\n",
    "retriever = EmbeddingRetriever(\n",
    "    document_store=document_store,\n",
    "   embedding_model=\"sentence-transformers/multi-qa-mpnet-base-dot-v1\",\n",
    "   model_format=\"sentence_transformers\"\n",
    ")"
   ]
  },
  {
   "cell_type": "code",
   "execution_count": 13,
   "metadata": {},
   "outputs": [
    {
     "name": "stderr",
     "output_type": "stream",
     "text": [
      "Batches: 100%|██████████| 30/30 [00:14<00:00,  2.02it/s]Docs/s]\n",
      "Updating embeddings: 10000 Docs [00:24, 411.54 Docs/s]         \n"
     ]
    }
   ],
   "source": [
    "#Create embedding for documents\n",
    "document_store.update_embeddings(retriever)"
   ]
  },
  {
   "cell_type": "code",
   "execution_count": 24,
   "metadata": {},
   "outputs": [
    {
     "name": "stderr",
     "output_type": "stream",
     "text": [
      "Batches: 100%|██████████| 1/1 [00:01<00:00,  1.03s/it]\n"
     ]
    }
   ],
   "source": [
    "# p_retrieval = DocumentSearchPipeline(retriever)\n",
    "# res = p_retrieval.run(query=\"What the company's approach to climate change?\", params={\"Retriever\": {\"top_k\": 5000}})"
   ]
  },
  {
   "cell_type": "code",
   "execution_count": 15,
   "metadata": {},
   "outputs": [],
   "source": [
    "#Create reader\n",
    "reader = FARMReader(model_name_or_path=\"deepset/roberta-base-squad2\", use_gpu=False)"
   ]
  },
  {
   "cell_type": "code",
   "execution_count": 19,
   "metadata": {},
   "outputs": [
    {
     "name": "stderr",
     "output_type": "stream",
     "text": [
      "Batches: 100%|██████████| 1/1 [00:01<00:00,  1.08s/it]\n",
      "Inferencing Samples: 100%|██████████| 3/3 [00:08<00:00,  2.94s/ Batches]\n"
     ]
    }
   ],
   "source": [
    "#Create pipeline\n",
    "extractive_pipe = ExtractiveQAPipeline(reader, retriever)\n",
    "extractive_pred = extractive_pipe.run(\n",
    "    #query=\"Does the company have a whistleblowing policy?\",\n",
    "    query=\"What the company's approach to climate change?\",\n",
    "    params={\"Retriever\": {\"top_k\": 100}, \"Reader\": {\n",
    "     \"top_k\": 10}, \"filters\":\"\"}\n",
    ")\n",
    "responses = []\n",
    "\n",
    "for index, answer in enumerate(extractive_pred['answers']):\n",
    "    document_id = answer.document_ids[0]\n",
    "    document = [x for x in extractive_pred['documents']\n",
    "                if x.id == document_id][0].to_dict()\n",
    "    responses.append({'answer': answer, 'document': document})"
   ]
  },
  {
   "cell_type": "code",
   "execution_count": 20,
   "metadata": {},
   "outputs": [
    {
     "data": {
      "text/plain": [
       "[{'answer': <Answer {'answer': 'methodically', 'type': 'extractive', 'score': 0.8745584487915039, 'context': 'rs. SAF-HOLLAND therefore\\napproaches the topic of climate protection methodically. The point of\\ndeparture was to draw up a life cycle assessment that ', 'offsets_in_document': [{'start': 238, 'end': 250}], 'offsets_in_context': [{'start': 69, 'end': 81}], 'document_ids': ['b94ce6a98f7d2625828d47c62b1c685e'], 'meta': {'json_uri': 'data/sustainability_doc_part3.json'}}>,\n",
       "  'document': {'content': 'FROM LIFE CYCLE ASSESSMENT TO THE STRATEGY PROCESS\\nGRI 305/103\\nThe rapidly growing environmental and social challenges necessitate a\\nclear perspective for the coming years. SAF-HOLLAND therefore\\napproaches the topic of climate protection methodically. The point of\\ndeparture was to draw up a life cycle assessment that considered all the\\nenvironmental and climate impacts during the life cycle of a trio axle unit,\\nwhich harmonises the vibrations of three axles.\\n',\n",
       "   'content_type': 'text',\n",
       "   'score': 0.550603159070414,\n",
       "   'meta': {'json_uri': 'data/sustainability_doc_part3.json'},\n",
       "   'id_hash_keys': ['content'],\n",
       "   'embedding': None,\n",
       "   'id': 'b94ce6a98f7d2625828d47c62b1c685e'}},\n",
       " {'answer': <Answer {'answer': 'alternative drive\\nconcepts', 'type': 'extractive', 'score': 0.8142044544219971, 'context': 'For years, the automotive industry has been working on alternative drive\\nconcepts in response to climate change and the increasing need for\\nindividual', 'offsets_in_document': [{'start': 55, 'end': 81}], 'offsets_in_context': [{'start': 55, 'end': 81}], 'document_ids': ['32371f67221e8f01ba86d632e306e8da'], 'meta': {'json_uri': 'data/sustainability_doc_part4.json'}}>,\n",
       "  'document': {'content': 'For years, the automotive industry has been working on alternative drive\\nconcepts in response to climate change and the increasing need for\\nindividual mobility. The commercial vehicle industry is also setting\\ncorresponding research and development priorities. New legal\\nrequirements and the increasing automation of transport processes\\npresent them with major challenges, but also offer opportunities in the\\nareas of decarbonisation and digitalisation. SAF-HOLLAND is actively\\ninvolved in implementing these trends. Thanks to our many years of\\nexperience in the truck and trailer industry, our partners and customers\\ncan also rely on our support in the field of alternative drive concepts. Not\\nonly do we help reduce emissions such as CO₂ or NOx - and operating\\ncosts, we also create a foundation for greater safety and increased vehicle\\nconnectivity.\\n',\n",
       "   'content_type': 'text',\n",
       "   'score': 0.5532978691053868,\n",
       "   'meta': {'json_uri': 'data/sustainability_doc_part4.json'},\n",
       "   'id_hash_keys': ['content'],\n",
       "   'embedding': None,\n",
       "   'id': '32371f67221e8f01ba86d632e306e8da'}},\n",
       " {'answer': <Answer {'answer': 'responsible', 'type': 'extractive', 'score': 0.5906189680099487, 'context': 'estors, who are vital to our\\nlong-term procurement of capital, to our responsible approach to climate\\nrisks. To this end, sourcing power from renewabl', 'offsets_in_document': [{'start': 413, 'end': 424}], 'offsets_in_context': [{'start': 70, 'end': 81}], 'document_ids': ['bfa6a37d6fca2200dd6f992b399f777'], 'meta': {'json_uri': 'data/sustainability_doc_part4.json'}}>,\n",
       "  'document': {'content': 'associations, networks and working groups, SAF-HOLLAND attempts to\\nobtain information of such legislative plans and to identify any signs of\\nchange - at a very early stage. In this way, we can keep the cost- and price-\\nrelated transitional risks of climate change low. At the same time, we would\\nlike to draw the attention of institutional investors, who are vital to our\\nlong-term procurement of capital, to our responsible approach to climate\\nrisks. To this end, sourcing power from renewable sources was analysed\\nand assessed in depth at the Bessenbach plant during the reporting year.\\n',\n",
       "   'content_type': 'text',\n",
       "   'score': 0.5521830380177241,\n",
       "   'meta': {'json_uri': 'data/sustainability_doc_part4.json'},\n",
       "   'id_hash_keys': ['content'],\n",
       "   'embedding': None,\n",
       "   'id': 'bfa6a37d6fca2200dd6f992b399f777'}},\n",
       " {'answer': <Answer {'answer': 'precautionary', 'type': 'extractive', 'score': 0.4532157778739929, 'context': 'PRINCIPLE 7\\nBusinesses should support\\na precautionary approach\\nto environmental challenges\\nSee page 25, 34 f., 37 ff.\\n', 'offsets_in_document': [{'start': 40, 'end': 53}], 'offsets_in_context': [{'start': 40, 'end': 53}], 'document_ids': ['a5727579e7a8bfd9f2050033d0d6c777'], 'meta': {'json_uri': 'data/sustainability_doc_part6.json'}}>,\n",
       "  'document': {'content': 'PRINCIPLE 7\\nBusinesses should support\\na precautionary approach\\nto environmental challenges\\nSee page 25, 34 f., 37 ff.\\n',\n",
       "   'content_type': 'text',\n",
       "   'score': 0.5537279110757976,\n",
       "   'meta': {'json_uri': 'data/sustainability_doc_part6.json'},\n",
       "   'id_hash_keys': ['content'],\n",
       "   'embedding': None,\n",
       "   'id': 'a5727579e7a8bfd9f2050033d0d6c777'}},\n",
       " {'answer': <Answer {'answer': 'SAF HOLLAND', 'type': 'extractive', 'score': 0.3953230679035187, 'context': \"ed Financial\\nDisclosures (TCFD). With this, we would like to disclose SAF HOLLAND'S\\nhandling of climate-related risks and opportunities in a comprehen\", 'offsets_in_document': [{'start': 209, 'end': 220}], 'offsets_in_context': [{'start': 70, 'end': 81}], 'document_ids': ['ca79a2cddc84335ec2c401200bd4ae78'], 'meta': {'json_uri': 'data/sustainability_doc_part6.json'}}>,\n",
       "  'document': {'content': \"In this Sustainability Report, we have for the first time established a reference\\nto the recommendations of the Task Force on Climate-related Financial\\nDisclosures (TCFD). With this, we would like to disclose SAF HOLLAND'S\\nhandling of climate-related risks and opportunities in a comprehensible\\nmanner. An overview of the contents on this topic can be found in the\\n\",\n",
       "   'content_type': 'text',\n",
       "   'score': 0.5491799727980095,\n",
       "   'meta': {'json_uri': 'data/sustainability_doc_part6.json'},\n",
       "   'id_hash_keys': ['content'],\n",
       "   'embedding': None,\n",
       "   'id': 'ca79a2cddc84335ec2c401200bd4ae78'}},\n",
       " {'answer': <Answer {'answer': 'For the period until 2030 it concentrates on the two main fields of activity\\nof climate protection and social issues', 'type': 'extractive', 'score': 0.31811732053756714, 'context': 'For the period until 2030 it concentrates on the two main fields of activity\\nof climate protection and social issues. We set a number of goals for\\nour', 'offsets_in_document': [{'start': 0, 'end': 116}], 'offsets_in_context': [{'start': 0, 'end': 116}], 'document_ids': ['a326323d31d1fc155ac13b62b512795f'], 'meta': {'json_uri': 'data/sustainability_doc_part2.json'}}>,\n",
       "  'document': {'content': 'For the period until 2030 it concentrates on the two main fields of activity\\nof climate protection and social issues. We set a number of goals for\\nourselves in the reporting year and drew up action plans. Moreover, we\\ninitiated the first analyses, which we will pursue in 2022.\\n',\n",
       "   'content_type': 'text',\n",
       "   'score': 0.5507709171675431,\n",
       "   'meta': {'json_uri': 'data/sustainability_doc_part2.json'},\n",
       "   'id_hash_keys': ['content'],\n",
       "   'embedding': None,\n",
       "   'id': 'a326323d31d1fc155ac13b62b512795f'}},\n",
       " {'answer': <Answer {'answer': 'require us to take a close look at the causes', 'type': 'extractive', 'score': 0.2982960343360901, 'context': 'change and the associated risks to people and nature\\nrequire us to take a close look at the causes. Energy generation and use\\nremains the most importa', 'offsets_in_document': [{'start': 116, 'end': 161}], 'offsets_in_context': [{'start': 53, 'end': 98}], 'document_ids': ['816dab5956a2e6cf275d82fdd28a2a95'], 'meta': {'json_uri': 'data/sustainability_doc_part4.json'}}>,\n",
       "  'document': {'content': 'ENERGY CONSUMPTION\\nGRI 302/103, 302-1, 302-4\\n✓ Ongoing climate change and the associated risks to people and nature\\nrequire us to take a close look at the causes. Energy generation and use\\nremains the most important source of greenhouse gas emissions for an\\nindustrial company like SAF-HOLLAND. As an energy-intensive company,\\nwe are therefore committed to energy efficiency and sustainable energy\\ngeneration as well as procurement. We want to reduce the emissions\\nproduced by our operating processes by using more energy-efficient\\nproduction technologies, such as heat recovery systems for compressed air\\ngenerators, and by applying a holistic energy management system.\\n',\n",
       "   'content_type': 'text',\n",
       "   'score': 0.5520104324402686,\n",
       "   'meta': {'json_uri': 'data/sustainability_doc_part4.json'},\n",
       "   'id_hash_keys': ['content'],\n",
       "   'embedding': None,\n",
       "   'id': '816dab5956a2e6cf275d82fdd28a2a95'}},\n",
       " {'answer': <Answer {'answer': 'Businesses should\\nundertake initiatives\\nto promote greater\\nenvironmental responsibility', 'type': 'extractive', 'score': 0.2753641605377197, 'context': 'PRINCIPLE 8\\nBusinesses should\\nundertake initiatives\\nto promote greater\\nenvironmental responsibility\\nSee page 28, 38 ff.\\n', 'offsets_in_document': [{'start': 12, 'end': 99}], 'offsets_in_context': [{'start': 12, 'end': 99}], 'document_ids': ['69ab0aa94114bc3201370a7f2036bf0d'], 'meta': {'json_uri': 'data/sustainability_doc_part6.json'}}>,\n",
       "  'document': {'content': 'PRINCIPLE 8\\nBusinesses should\\nundertake initiatives\\nto promote greater\\nenvironmental responsibility\\nSee page 28, 38 ff.\\n',\n",
       "   'content_type': 'text',\n",
       "   'score': 0.5506055592306428,\n",
       "   'meta': {'json_uri': 'data/sustainability_doc_part6.json'},\n",
       "   'id_hash_keys': ['content'],\n",
       "   'embedding': None,\n",
       "   'id': '69ab0aa94114bc3201370a7f2036bf0d'}},\n",
       " {'answer': <Answer {'answer': 'multi-stage process to manage the\\nrisks associated with climate change that can arise anywhere along the\\nentire value chain. It extends from the identification, analysis and\\nassessment to the management and control of risks', 'type': 'extractive', 'score': 0.23244421184062958, 'context': ' multi-stage process to manage the\\nrisks associated with climate change that can arise anywhere along the\\nentire value chain. It extends from the identification, analysis and\\nassessment to the management and control of risks', 'offsets_in_document': [{'start': 71, 'end': 294}], 'offsets_in_context': [{'start': 1, 'end': 224}], 'document_ids': ['b83065c626a0c009c917c2a377b029f'], 'meta': {'json_uri': 'data/sustainability_doc_part4.json'}}>,\n",
       "  'document': {'content': 'RISK MANAGEMENT AND STRATEGIC PLANNING\\n| SAF-HOLLAND has established a multi-stage process to manage the\\nrisks associated with climate change that can arise anywhere along the\\nentire value chain. It extends from the identification, analysis and\\nassessment to the management and control of risks.\\n',\n",
       "   'content_type': 'text',\n",
       "   'score': 0.5554687510674712,\n",
       "   'meta': {'json_uri': 'data/sustainability_doc_part4.json'},\n",
       "   'id_hash_keys': ['content'],\n",
       "   'embedding': None,\n",
       "   'id': 'b83065c626a0c009c917c2a377b029f'}},\n",
       " {'answer': <Answer {'answer': 'practical', 'type': 'extractive', 'score': 0.21318934857845306, 'context': 'initiatives in the regions. Together, we discuss key topics and develop\\npractical approaches.\\n', 'offsets_in_document': [{'start': 72, 'end': 81}], 'offsets_in_context': [{'start': 72, 'end': 81}], 'document_ids': ['f07ce7a7fd823d2cd9ea6f496be9bb72'], 'meta': {'json_uri': 'data/sustainability_doc_part4.json'}}>,\n",
       "  'document': {'content': 'initiatives in the regions. Together, we discuss key topics and develop\\npractical approaches.\\n',\n",
       "   'content_type': 'text',\n",
       "   'score': 0.5450705788032877,\n",
       "   'meta': {'json_uri': 'data/sustainability_doc_part4.json'},\n",
       "   'id_hash_keys': ['content'],\n",
       "   'embedding': None,\n",
       "   'id': 'f07ce7a7fd823d2cd9ea6f496be9bb72'}}]"
      ]
     },
     "execution_count": 20,
     "metadata": {},
     "output_type": "execute_result"
    }
   ],
   "source": [
    "responses"
   ]
  },
  {
   "cell_type": "code",
   "execution_count": null,
   "metadata": {},
   "outputs": [],
   "source": [
    "responses"
   ]
  },
  {
   "cell_type": "code",
   "execution_count": null,
   "metadata": {},
   "outputs": [],
   "source": [
    "#!pip install farm-haystack --upgrade"
   ]
  },
  {
   "cell_type": "code",
   "execution_count": null,
   "metadata": {},
   "outputs": [],
   "source": [
    "#more complex pipeline"
   ]
  },
  {
   "cell_type": "code",
   "execution_count": null,
   "metadata": {},
   "outputs": [],
   "source": [
    "from haystack.pipelines import Pipeline\n",
    "from haystack.nodes import  AnswerParser, PromptNode, PromptTemplate\n",
    "from haystack.schema import Document\n",
    "\n",
    "# Let's create a custom LFQA prompt using PromptTemplate\n",
    "lfqa_prompt = PromptTemplate(name=\"lfqa\",\n",
    "                             prompt_text=\"\"\"Synthesize a comprehensive answer from the following topk most relevant paragraphs and the given question. \n",
    "                             Provide a clear and concise response that summarizes the key points and information presented in the paragraphs. \n",
    "                             Your answer should be in your own words and be no longer than 50 words. \n",
    "                             \\n\\n Paragraphs: {join(documents)} \\n\\n Question: {query} \\n\\n Answer:\"\"\",\n",
    "                             output_parser=AnswerParser(),) \n",
    "\n",
    "# These docs could also come from a retriever\n",
    "# Here we explicitly specify them to avoid the setup steps for Retriever and DocumentStore\n",
    "doc_1 = \"Contrails are a manmade type of cirrus cloud formed when water vapor from the exhaust of a jet engine condenses on particles, which come from either the surrounding air or the exhaust itself, and freezes, leaving behind a visible trail. The exhaust can also trigger the formation of cirrus by providing ice nuclei when there is an insufficient naturally-occurring supply in the atmosphere. One of the environmental impacts of aviation is that persistent contrails can form into large mats of cirrus, and increased air traffic has been implicated as one possible cause of the increasing frequency and amount of cirrus in Earth's atmosphere.\"\n",
    "doc_2 = \"Because the aviation industry is especially sensitive to the weather, accurate weather forecasting is essential. Fog or exceptionally low ceilings can prevent many aircraft from landing and taking off. Turbulence and icing are also significant in-flight hazards. Thunderstorms are a problem for all aircraft because of severe turbulence due to their updrafts and outflow boundaries, icing due to the heavy precipitation, as well as large hail, strong winds, and lightning, all of which can cause severe damage to an aircraft in flight. Volcanic ash is also a significant problem for aviation, as aircraft can lose engine power within ash clouds. On a day-to-day basis airliners are routed to take advantage of the jet stream tailwind to improve fuel efficiency. Aircrews are briefed prior to takeoff on the conditions to expect en route and at their destination. Additionally, airports often change which runway is being used to take advantage of a headwind. This reduces the distance required for takeoff, and eliminates potential crosswinds.\"\n",
    "\n",
    "\n",
    "# Let's initiate the PromptNode \n",
    "node = PromptNode(\"gpt-3.5-turbo\", default_prompt_template=lfqa_prompt, api_key=\"YOUR_API_KEY\")\n",
    "\n",
    "pipe = Pipeline()\n",
    "pipe.add_node(component=node, name=\"prompt_node\", inputs=[\"Query\"])\n",
    "\n",
    "output = pipe.run(query=\"Why do airplanes leave contrails in the sky?\", documents=[Document(doc_1), Document(doc_2)])\n",
    "[a.answer for a in output[\"answers\"]]\n",
    "\n",
    "# Here's the answer:\n",
    "[\"Contrails are manmade clouds formed when water vapor from the exhaust of a jet engine condenses on particles, which come from either the surrounding air or the exhaust itself, and freezes, creating a visible trail. Increased air traffic has been linked to the greater frequency and amount of these cirrus clouds in Earth's atmosphere.\"]"
   ]
  }
 ],
 "metadata": {
  "interpreter": {
   "hash": "989b0d66d7c66f19838695b9e717bdb1dff54aa4610eca85f2abb813f08699a6"
  },
  "kernelspec": {
   "display_name": "Python 3.9.15 ('haystack2')",
   "language": "python",
   "name": "python3"
  },
  "language_info": {
   "codemirror_mode": {
    "name": "ipython",
    "version": 3
   },
   "file_extension": ".py",
   "mimetype": "text/x-python",
   "name": "python",
   "nbconvert_exporter": "python",
   "pygments_lexer": "ipython3",
   "version": "3.10.10"
  },
  "orig_nbformat": 4
 },
 "nbformat": 4,
 "nbformat_minor": 2
}
